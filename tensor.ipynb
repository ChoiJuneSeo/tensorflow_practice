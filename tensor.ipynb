{
 "cells": [
  {
   "cell_type": "code",
   "execution_count": 6,
   "metadata": {},
   "outputs": [],
   "source": [
    "import tensorflow as tf"
   ]
  },
  {
   "cell_type": "code",
   "execution_count": 20,
   "metadata": {},
   "outputs": [],
   "source": [
    "ten1 = tf.constant([1,2,3])\n",
    "ten2 = tf.constant([4,5,6])\n",
    "ten3 = tf.constant([[1,2],\n",
    "                    [3,4],\n",
    "                    [5,6]])\n",
    "w = tf.Variable(1.0)  # weight / 변수\n"
   ]
  },
  {
   "cell_type": "code",
   "execution_count": 17,
   "metadata": {},
   "outputs": [
    {
     "name": "stdout",
     "output_type": "stream",
     "text": [
      "tf.Tensor([5 7 9], shape=(3,), dtype=int32)\n",
      "tf.Tensor(\n",
      "[[1 2]\n",
      " [3 4]\n",
      " [5 6]], shape=(3, 2), dtype=int32)\n"
     ]
    }
   ],
   "source": [
    "print(ten1+ten2)\n",
    "print(ten3)"
   ]
  },
  {
   "cell_type": "code",
   "execution_count": 18,
   "metadata": {},
   "outputs": [
    {
     "name": "stdout",
     "output_type": "stream",
     "text": [
      "tf.Tensor([5 7 9], shape=(3,), dtype=int32)\n"
     ]
    }
   ],
   "source": [
    "print(tf.add(ten1,ten2))"
   ]
  },
  {
   "cell_type": "code",
   "execution_count": 22,
   "metadata": {},
   "outputs": [
    {
     "name": "stdout",
     "output_type": "stream",
     "text": [
      "<tf.Variable 'Variable:0' shape=() dtype=float32, numpy=1.0>\n",
      "<tf.Variable 'Variable:0' shape=() dtype=float32, numpy=2.0>\n"
     ]
    }
   ],
   "source": [
    "tf.zeros(10)\n",
    "# tf.shape()    \n",
    "# tf.cast()\n",
    "print(w)\n",
    "#w.numpy()\n",
    "w.assign(2)\n",
    "print(w)"
   ]
  },
  {
   "cell_type": "code",
   "execution_count": 40,
   "metadata": {},
   "outputs": [
    {
     "name": "stdout",
     "output_type": "stream",
     "text": [
      "tf.Tensor(260.0, shape=(), dtype=float32)\n"
     ]
    }
   ],
   "source": [
    "키 = 170\n",
    "신발 = 260\n",
    "#신발 = 키 * a + b \n",
    "\n",
    "a = tf.Variable(0.1)\n",
    "b = tf.Variable(0.2)\n",
    "\n",
    "def 손실함수():\n",
    "    예측값 = 키 * a + b\n",
    "    return tf.square( 260 - 예측값 )\n",
    "\n",
    "opt = tf.keras.optimizers.Adam(learning_rate=0.1)\n",
    "\n",
    "for i in range (0,10000):\n",
    "    opt.minimize(손실함수, var_list = [a,b])\n",
    "\n",
    "\n"
   ]
  },
  {
   "cell_type": "code",
   "execution_count": 43,
   "metadata": {},
   "outputs": [
    {
     "name": "stdout",
     "output_type": "stream",
     "text": [
      "1.5198832 1.6198834\n"
     ]
    }
   ],
   "source": [
    "print(a.numpy(),b.numpy())"
   ]
  },
  {
   "cell_type": "code",
   "execution_count": 44,
   "metadata": {},
   "outputs": [
    {
     "name": "stdout",
     "output_type": "stream",
     "text": [
      "tf.Tensor(275.19885, shape=(), dtype=float32)\n"
     ]
    }
   ],
   "source": [
    "키 = 180\n",
    "print(키*a + b)"
   ]
  }
 ],
 "metadata": {
  "kernelspec": {
   "display_name": "apple",
   "language": "python",
   "name": "python3"
  },
  "language_info": {
   "codemirror_mode": {
    "name": "ipython",
    "version": 3
   },
   "file_extension": ".py",
   "mimetype": "text/x-python",
   "name": "python",
   "nbconvert_exporter": "python",
   "pygments_lexer": "ipython3",
   "version": "3.9.0"
  },
  "orig_nbformat": 4,
  "vscode": {
   "interpreter": {
    "hash": "2e02680fac5cd14e4337a0b31a1c16da80da3bf40315f771c3918b4c6a6b35b2"
   }
  }
 },
 "nbformat": 4,
 "nbformat_minor": 2
}
